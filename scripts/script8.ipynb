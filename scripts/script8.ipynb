{
 "cells": [
  {
   "cell_type": "code",
   "execution_count": null,
   "metadata": {},
   "outputs": [],
   "source": [
    "#FUNCTION FOR GETTING DATASETS\n",
    "from tensorflow.keras.preprocessing.image import ImageDataGenerator\n",
    "\n",
    "def get_datasets():\n",
    "#appply data augmentation on TRAIN DATA ONLY!!\n",
    "  train_datagen = ImageDataGenerator( rescale = 1.0/255.,rotation_range=40,width_shift_range=0.2,height_shift_range=0.2,shear_range=0.2,zoom_range=0.2,horizontal_flip=True) \n",
    "\n",
    "  train_generator = train_datagen.flow_from_directory(\n",
    "    directory=r\"./train_dataset/\",\n",
    "    target_size=(224, 224),\n",
    "    color_mode=\"rgb\",\n",
    "    batch_size=16,\n",
    "    class_mode=\"categorical\",\n",
    "    shuffle=True,\n",
    "    seed=42)\n",
    "\n",
    "  val_datagen = ImageDataGenerator( rescale = 1.0/255.)\n",
    "\n",
    "  val_generator = val_datagen.flow_from_directory(\n",
    "    directory=r\"./val_dataset/\",\n",
    "    target_size=(224, 224),\n",
    "    color_mode=\"rgb\",\n",
    "    batch_size=16,\n",
    "    class_mode=\"categorical\",\n",
    "    shuffle=True,\n",
    "    seed=42)\n",
    "\n",
    "  test_datagen = ImageDataGenerator( rescale = 1.0/255.)\n",
    "\n",
    "  test_generator = test_datagen.flow_from_directory(\n",
    "    directory=r\"./test_dataset/\",\n",
    "    target_size=(224, 224),\n",
    "    color_mode=\"rgb\",\n",
    "    batch_size=16,\n",
    "    class_mode=\"categorical\",\n",
    "    shuffle=True,\n",
    "    seed=42)\n",
    "  \n",
    "  return train_generator, val_generator, test_generator\n"
   ]
  }
 ],
 "metadata": {
  "language_info": {
   "name": "python"
  },
  "orig_nbformat": 4
 },
 "nbformat": 4,
 "nbformat_minor": 2
}
