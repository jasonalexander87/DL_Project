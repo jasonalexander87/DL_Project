{
 "cells": [
  {
   "cell_type": "code",
   "execution_count": null,
   "metadata": {},
   "outputs": [],
   "source": [
    "#SCRIPT4  CREATE DICTIONARY WITH CANDIDATE HYPERPARAMS\n",
    "\n",
    "models = []\n",
    "one = {\"kernel_num\": 64, \"kernel_size\": 3, \"fc_size\": 1024, \"conv_layer\":4}\n",
    "two = {\"kernel_num\": 64, \"kernel_size\": 3, \"fc_size\": 1024, \"conv_layer\":3}\n",
    "three = {\"kernel_num\": 32, \"kernel_size\": 3, \"fc_size\": 768, \"conv_layer\":3}\n",
    "four = {\"kernel_num\": 32, \"kernel_size\": 3, \"fc_size\": 1024, \"conv_layer\":4}\n",
    "five = {\"kernel_num\": 64, \"kernel_size\": 4, \"fc_size\": 512, \"conv_layer\":4}\n",
    "six = {\"kernel_num\": 32, \"kernel_size\": 4, \"fc_size\": 1024, \"conv_layer\":4}\n",
    "\n",
    "models.append(one)\n",
    "models.append(two)\n",
    "models.append(three)\n",
    "models.append(four)\n",
    "models.append(five)\n",
    "models.append(six)\n",
    "\n",
    "with open('config.cfg', 'wb') as cfg:\n",
    "  pickle.dump(models, cfg)\n",
    "\n",
    "with open('config.cfg','rb') as cffile: \n",
    "  models2 = pickle.load(cffile)\n",
    "\n",
    "print(models2[0]['conv'])\n"
   ]
  }
 ],
 "metadata": {
  "language_info": {
   "name": "python"
  },
  "orig_nbformat": 4
 },
 "nbformat": 4,
 "nbformat_minor": 2
}
