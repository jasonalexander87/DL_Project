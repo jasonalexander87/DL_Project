{
 "cells": [
  {
   "cell_type": "code",
   "execution_count": null,
   "metadata": {},
   "outputs": [],
   "source": [
    "#SCRIPT 10 EVALUATION\n",
    "from tensorflow.keras import Model\n",
    "import pickle\n",
    "\n",
    "models = ['model_0.model','model_1.model','model_2.model','model_3.model','model_4.model','model_5.model']\n",
    "train_generator, val_generator, test_generator = get_datasets() \n",
    "\n",
    "for i in models:\n",
    " with open(i,'rb') as cffile: \n",
    "  model = pickle.load(cffile)\n",
    "  model.summary()\n",
    "\n",
    " result = model.evaluate(test_generator)\n",
    " print('For model ',i,' result = ',result)"
   ]
  }
 ],
 "metadata": {
  "language_info": {
   "name": "python"
  },
  "orig_nbformat": 4
 },
 "nbformat": 4,
 "nbformat_minor": 2
}
