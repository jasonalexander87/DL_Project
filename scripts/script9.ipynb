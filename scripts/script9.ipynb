{
 "cells": [
  {
   "cell_type": "code",
   "execution_count": null,
   "metadata": {},
   "outputs": [],
   "source": [
    "#SCRIPT 9 CREATE CLASS WEIGHTS\n",
    "import os\n",
    "\n",
    "def compute_weigths():\n",
    "  size_per_class = []\n",
    "  a = os.listdir('./train_dataset/')\n",
    "  b = [int(w) for w in a]\n",
    "  b.sort()\n",
    "  print(b)\n",
    "\n",
    "  for i in b:\n",
    "    temp = os.listdir('./train_dataset/'+ str(i))\n",
    "    size_per_class.append(len(temp))\n",
    "\n",
    "  #print(size_per_class)\n",
    "  total = sum(size_per_class)\n",
    "  #print(total)\n",
    "\n",
    "  class_weights = {0: 1, 1: 1, 2: 1,3: 1, 4: 1, 5: 1, 6: 1, 7: 1, 8: 1 }\n",
    "  #print(class_weights)\n",
    "  for i in range(len(size_per_class)):\n",
    "    weigth = (total)/(9*size_per_class[i])\n",
    "    class_weights[i] = weigth\n",
    "\n",
    "  #print(class_weights)\n",
    "  return class_weights \n",
    "\n",
    "weights_per_class = compute_weigths()\n",
    "print(weights_per_class)"
   ]
  }
 ],
 "metadata": {
  "language_info": {
   "name": "python"
  },
  "orig_nbformat": 4
 },
 "nbformat": 4,
 "nbformat_minor": 2
}
