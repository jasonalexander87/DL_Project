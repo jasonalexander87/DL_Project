{
 "cells": [
  {
   "cell_type": "code",
   "execution_count": null,
   "metadata": {},
   "outputs": [],
   "source": [
    "#SCRIPT 6 CALLBACK CLASS\n",
    "#CALLBACK\n",
    "import tensorflow as tf\n",
    "import keras\n",
    "from tensorflow.keras.callbacks import Callback\n",
    "from timeit import default_timer as timer\n",
    "stop_flag = False\n",
    "\n",
    "\n",
    "class newcb(keras.callbacks.Callback):\n",
    "  def __init__(self, start):\n",
    "    self.start = start\n",
    "    print(self.start,'INIT TIME')\n",
    "\n",
    "  def on_epoch_end(self, epoch, logs=None):\n",
    "      print('CALLBACK')\n",
    "      end = timer()\n",
    "      if end-self.start > 18:\n",
    "        print('TERMINATING TRAIN DUE TO EXCEEDING 5 HOURS')\n",
    "        print(current_arch,'ARRCH CALLBACK')\n",
    "        save_state(self.model,epoch,current_arch)\n",
    "        self.model.stop_training = True\n",
    "        global stop_flag\n",
    "        stop_flag = True\n",
    "        print(stop_flag,'STOP FLAG CALLBACK')\n",
    "\n"
   ]
  }
 ],
 "metadata": {
  "language_info": {
   "name": "python"
  },
  "orig_nbformat": 4
 },
 "nbformat": 4,
 "nbformat_minor": 2
}
