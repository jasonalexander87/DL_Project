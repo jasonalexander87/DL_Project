{
 "cells": [
  {
   "cell_type": "code",
   "execution_count": null,
   "metadata": {},
   "outputs": [],
   "source": [
    "import os\n",
    "from os import listdir\n",
    "from PIL import Image\n",
    "import cv2\n",
    "\n",
    "categ = ['train_dataset','test_dataset','val_dataset']\n",
    "dataset = '/content/drive/MyDrive/DL_Project/complete_ds'\n",
    "bad_file_list=[]\n",
    "bad_count=0\n",
    "\n",
    "for cat in categ:\n",
    "  img_path = os.path.join(dataset, cat)\n",
    "  for foldername in os.listdir(img_path):\n",
    "    sign_path = os.path.join(img_path, foldername)\n",
    "    print(sign_path)\n",
    "    for sign in listdir(sign_path):\n",
    "      if sign.endswith('.jpg'):\n",
    "        try:\n",
    "          Image.open(os.path.join(sign_path, sign)).load() # open the image file\n",
    "           # verify that it is, in fact an image\n",
    "        except:\n",
    "          bad_file_list.append(os.path.join(sign_path, sign))\n",
    "          bad_count +=1"
   ]
  }
 ],
 "metadata": {
  "language_info": {
   "name": "python"
  },
  "orig_nbformat": 4
 },
 "nbformat": 4,
 "nbformat_minor": 2
}
