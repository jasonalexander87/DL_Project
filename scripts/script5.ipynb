{
 "cells": [
  {
   "cell_type": "code",
   "execution_count": null,
   "metadata": {},
   "outputs": [],
   "source": [
    "def save_state(mod,epochs,model_type):\n",
    "    with open('config3.cfg', 'wb') as cfg:\n",
    "      pickle.dump(mod, cfg)\n",
    "      pickle.dump(epochs,cfg)\n",
    "      pickle.dump(model_type,cfg)\n",
    "\n",
    "def load_state(state_file):\n",
    "    with open(state_file,'rb') as cffile: \n",
    "      model2 = pickle.load(cffile)\n",
    "      a2 = pickle.load(cffile)\n",
    "      b2 = pickle.load(cffile)\n",
    "    return model2, a2, b2    \n",
    "    "
   ]
  }
 ],
 "metadata": {
  "language_info": {
   "name": "python"
  },
  "orig_nbformat": 4
 },
 "nbformat": 4,
 "nbformat_minor": 2
}
